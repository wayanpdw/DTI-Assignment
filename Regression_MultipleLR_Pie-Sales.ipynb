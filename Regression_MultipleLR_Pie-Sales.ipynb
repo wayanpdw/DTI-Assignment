{
  "nbformat": 4,
  "nbformat_minor": 0,
  "metadata": {
    "colab": {
      "name": "Pie Sales Regression Analyst.ipynb",
      "provenance": [],
      "authorship_tag": "ABX9TyNNRRRca+IyWI/22zI006O4",
      "include_colab_link": true
    },
    "kernelspec": {
      "name": "python3",
      "display_name": "Python 3"
    }
  },
  "cells": [
    {
      "cell_type": "markdown",
      "metadata": {
        "id": "view-in-github",
        "colab_type": "text"
      },
      "source": [
        "<a href=\"https://colab.research.google.com/github/wayanpdw/Regression1/blob/main/Pie_Sales_Regression_Analyst.ipynb\" target=\"_parent\"><img src=\"https://colab.research.google.com/assets/colab-badge.svg\" alt=\"Open In Colab\"/></a>"
      ]
    },
    {
      "cell_type": "code",
      "metadata": {
        "id": "O96UxhRNFwkz"
      },
      "source": [
        "import pandas as pd\n",
        "import statsmodels.api as sm\n",
        "from sklearn import linear_model\n",
        "import pandas.util.testing as tm"
      ],
      "execution_count": 5,
      "outputs": []
    },
    {
      "cell_type": "markdown",
      "metadata": {
        "id": "lJ9PAEjyOuVM"
      },
      "source": [
        ""
      ]
    },
    {
      "cell_type": "code",
      "metadata": {
        "id": "8bdhnL1mHcbs",
        "outputId": "eec0a759-3b42-4c19-8a74-14e3ebcce6e1",
        "colab": {
          "base_uri": "https://localhost:8080/",
          "height": 514
        }
      },
      "source": [
        "#import datasheet\n",
        "sumberURL = 'https://raw.githubusercontent.com/rc-dbe/dti/main/data/pie-sales.csv'\n",
        "\n",
        "df_pie = pd.read_csv(sumberURL, sep =\";\")\n",
        "df_pie"
      ],
      "execution_count": 6,
      "outputs": [
        {
          "output_type": "execute_result",
          "data": {
            "text/html": [
              "<div>\n",
              "<style scoped>\n",
              "    .dataframe tbody tr th:only-of-type {\n",
              "        vertical-align: middle;\n",
              "    }\n",
              "\n",
              "    .dataframe tbody tr th {\n",
              "        vertical-align: top;\n",
              "    }\n",
              "\n",
              "    .dataframe thead th {\n",
              "        text-align: right;\n",
              "    }\n",
              "</style>\n",
              "<table border=\"1\" class=\"dataframe\">\n",
              "  <thead>\n",
              "    <tr style=\"text-align: right;\">\n",
              "      <th></th>\n",
              "      <th>week</th>\n",
              "      <th>pie_sales</th>\n",
              "      <th>price</th>\n",
              "      <th>advertising</th>\n",
              "    </tr>\n",
              "  </thead>\n",
              "  <tbody>\n",
              "    <tr>\n",
              "      <th>0</th>\n",
              "      <td>1</td>\n",
              "      <td>350</td>\n",
              "      <td>5.5</td>\n",
              "      <td>3.3</td>\n",
              "    </tr>\n",
              "    <tr>\n",
              "      <th>1</th>\n",
              "      <td>2</td>\n",
              "      <td>460</td>\n",
              "      <td>7.5</td>\n",
              "      <td>3.3</td>\n",
              "    </tr>\n",
              "    <tr>\n",
              "      <th>2</th>\n",
              "      <td>3</td>\n",
              "      <td>350</td>\n",
              "      <td>8.0</td>\n",
              "      <td>3.0</td>\n",
              "    </tr>\n",
              "    <tr>\n",
              "      <th>3</th>\n",
              "      <td>4</td>\n",
              "      <td>430</td>\n",
              "      <td>8.0</td>\n",
              "      <td>4.5</td>\n",
              "    </tr>\n",
              "    <tr>\n",
              "      <th>4</th>\n",
              "      <td>5</td>\n",
              "      <td>350</td>\n",
              "      <td>6.8</td>\n",
              "      <td>3.0</td>\n",
              "    </tr>\n",
              "    <tr>\n",
              "      <th>5</th>\n",
              "      <td>6</td>\n",
              "      <td>380</td>\n",
              "      <td>7.5</td>\n",
              "      <td>4.0</td>\n",
              "    </tr>\n",
              "    <tr>\n",
              "      <th>6</th>\n",
              "      <td>7</td>\n",
              "      <td>430</td>\n",
              "      <td>4.5</td>\n",
              "      <td>3.0</td>\n",
              "    </tr>\n",
              "    <tr>\n",
              "      <th>7</th>\n",
              "      <td>8</td>\n",
              "      <td>470</td>\n",
              "      <td>6.4</td>\n",
              "      <td>3.7</td>\n",
              "    </tr>\n",
              "    <tr>\n",
              "      <th>8</th>\n",
              "      <td>9</td>\n",
              "      <td>450</td>\n",
              "      <td>7.0</td>\n",
              "      <td>3.5</td>\n",
              "    </tr>\n",
              "    <tr>\n",
              "      <th>9</th>\n",
              "      <td>10</td>\n",
              "      <td>490</td>\n",
              "      <td>5.0</td>\n",
              "      <td>4.0</td>\n",
              "    </tr>\n",
              "    <tr>\n",
              "      <th>10</th>\n",
              "      <td>11</td>\n",
              "      <td>340</td>\n",
              "      <td>7.2</td>\n",
              "      <td>3.5</td>\n",
              "    </tr>\n",
              "    <tr>\n",
              "      <th>11</th>\n",
              "      <td>12</td>\n",
              "      <td>300</td>\n",
              "      <td>7.9</td>\n",
              "      <td>3.2</td>\n",
              "    </tr>\n",
              "    <tr>\n",
              "      <th>12</th>\n",
              "      <td>13</td>\n",
              "      <td>440</td>\n",
              "      <td>5.9</td>\n",
              "      <td>4.0</td>\n",
              "    </tr>\n",
              "    <tr>\n",
              "      <th>13</th>\n",
              "      <td>14</td>\n",
              "      <td>450</td>\n",
              "      <td>5.0</td>\n",
              "      <td>3.5</td>\n",
              "    </tr>\n",
              "    <tr>\n",
              "      <th>14</th>\n",
              "      <td>15</td>\n",
              "      <td>300</td>\n",
              "      <td>7.0</td>\n",
              "      <td>2.7</td>\n",
              "    </tr>\n",
              "  </tbody>\n",
              "</table>\n",
              "</div>"
            ],
            "text/plain": [
              "    week  pie_sales  price  advertising\n",
              "0      1        350    5.5          3.3\n",
              "1      2        460    7.5          3.3\n",
              "2      3        350    8.0          3.0\n",
              "3      4        430    8.0          4.5\n",
              "4      5        350    6.8          3.0\n",
              "5      6        380    7.5          4.0\n",
              "6      7        430    4.5          3.0\n",
              "7      8        470    6.4          3.7\n",
              "8      9        450    7.0          3.5\n",
              "9     10        490    5.0          4.0\n",
              "10    11        340    7.2          3.5\n",
              "11    12        300    7.9          3.2\n",
              "12    13        440    5.9          4.0\n",
              "13    14        450    5.0          3.5\n",
              "14    15        300    7.0          2.7"
            ]
          },
          "metadata": {
            "tags": []
          },
          "execution_count": 6
        }
      ]
    },
    {
      "cell_type": "code",
      "metadata": {
        "id": "G9pzWfDMH45k"
      },
      "source": [
        "X=df_pie[['price','advertising']]\n",
        "Y=df_pie['pie_sales']"
      ],
      "execution_count": 7,
      "outputs": []
    },
    {
      "cell_type": "code",
      "metadata": {
        "id": "dr8oOyDcIUek",
        "outputId": "f3161a4e-c6b2-45c9-f43d-b0ad21ced1b9",
        "colab": {
          "base_uri": "https://localhost:8080/",
          "height": 34
        }
      },
      "source": [
        "regresi = linear_model.LinearRegression()\n",
        "regresi.fit(X, Y)"
      ],
      "execution_count": 9,
      "outputs": [
        {
          "output_type": "execute_result",
          "data": {
            "text/plain": [
              "LinearRegression(copy_X=True, fit_intercept=True, n_jobs=None, normalize=False)"
            ]
          },
          "metadata": {
            "tags": []
          },
          "execution_count": 9
        }
      ]
    },
    {
      "cell_type": "code",
      "metadata": {
        "id": "A3g33rT-ItJj",
        "outputId": "74700aa1-fd5b-4e00-df2c-63bc8672e207",
        "colab": {
          "base_uri": "https://localhost:8080/",
          "height": 85
        }
      },
      "source": [
        "print('Intercept: \\n', regresi.intercept_)\n",
        "print('Coefficients: \\n', regresi.coef_)"
      ],
      "execution_count": 10,
      "outputs": [
        {
          "output_type": "stream",
          "text": [
            "Intercept: \n",
            " 306.5261932837436\n",
            "Coefficients: \n",
            " [-24.97508952  74.13095749]\n"
          ],
          "name": "stdout"
        }
      ]
    },
    {
      "cell_type": "code",
      "metadata": {
        "id": "M1Ih5_b0J2i1",
        "outputId": "ba72597a-6635-40e1-c4d4-a9aac71967c6",
        "colab": {
          "base_uri": "https://localhost:8080/",
          "height": 51
        }
      },
      "source": [
        "# prediiction with sklearn\n",
        "new_price = 5.50\n",
        "new_advertising = 3.5\n",
        "print ('predicted Pie Sales: \\n' , regresi.predict([[new_price,new_advertising]]))"
      ],
      "execution_count": 11,
      "outputs": [
        {
          "output_type": "stream",
          "text": [
            "predicted Pie Sales: \n",
            " [428.62155215]\n"
          ],
          "name": "stdout"
        }
      ]
    },
    {
      "cell_type": "code",
      "metadata": {
        "id": "eJOapUAFMCi9"
      },
      "source": [
        "X = sm.add_constant(X) #adding a constant"
      ],
      "execution_count": 12,
      "outputs": []
    },
    {
      "cell_type": "code",
      "metadata": {
        "id": "c3mFDqCmMTbb",
        "outputId": "f44777ae-6197-4d26-c4c0-89e0794d5c1e",
        "colab": {
          "base_uri": "https://localhost:8080/",
          "height": 493
        }
      },
      "source": [
        "model = sm.OLS(Y, X).fit()\n",
        "prediction = model.predict(X)\n",
        "\n",
        "print_model = model.summary()\n",
        "print(print_model)"
      ],
      "execution_count": 13,
      "outputs": [
        {
          "output_type": "stream",
          "text": [
            "                            OLS Regression Results                            \n",
            "==============================================================================\n",
            "Dep. Variable:              pie_sales   R-squared:                       0.521\n",
            "Model:                            OLS   Adj. R-squared:                  0.442\n",
            "Method:                 Least Squares   F-statistic:                     6.539\n",
            "Date:                Mon, 19 Oct 2020   Prob (F-statistic):             0.0120\n",
            "Time:                        10:07:28   Log-Likelihood:                -77.510\n",
            "No. Observations:                  15   AIC:                             161.0\n",
            "Df Residuals:                      12   BIC:                             163.1\n",
            "Df Model:                           2                                         \n",
            "Covariance Type:            nonrobust                                         \n",
            "===============================================================================\n",
            "                  coef    std err          t      P>|t|      [0.025      0.975]\n",
            "-------------------------------------------------------------------------------\n",
            "const         306.5262    114.254      2.683      0.020      57.588     555.464\n",
            "price         -24.9751     10.832     -2.306      0.040     -48.576      -1.374\n",
            "advertising    74.1310     25.967      2.855      0.014      17.553     130.709\n",
            "==============================================================================\n",
            "Omnibus:                        1.505   Durbin-Watson:                   1.683\n",
            "Prob(Omnibus):                  0.471   Jarque-Bera (JB):                0.937\n",
            "Skew:                           0.595   Prob(JB):                        0.626\n",
            "Kurtosis:                       2.709   Cond. No.                         72.2\n",
            "==============================================================================\n",
            "\n",
            "Warnings:\n",
            "[1] Standard Errors assume that the covariance matrix of the errors is correctly specified.\n"
          ],
          "name": "stdout"
        },
        {
          "output_type": "stream",
          "text": [
            "/usr/local/lib/python3.6/dist-packages/scipy/stats/stats.py:1535: UserWarning: kurtosistest only valid for n>=20 ... continuing anyway, n=15\n",
            "  \"anyway, n=%i\" % int(n))\n"
          ],
          "name": "stderr"
        }
      ]
    }
  ]
}
